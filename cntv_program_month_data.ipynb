{
 "cells": [
  {
   "cell_type": "code",
   "execution_count": 1,
   "metadata": {
    "tags": [
     "parameters"
    ]
   },
   "outputs": [],
   "source": [
    "year = 2018\n",
    "month = 12\n",
    "start_date = None\n",
    "end_date = None"
   ]
  },
  {
   "cell_type": "code",
   "execution_count": 2,
   "metadata": {},
   "outputs": [],
   "source": [
    "import aiohttp"
   ]
  },
  {
   "cell_type": "code",
   "execution_count": 3,
   "metadata": {},
   "outputs": [],
   "source": [
    "import asyncio\n",
    "import json\n",
    "import pandas as pd\n",
    "import re\n",
    "import papermill as pm\n",
    "import datetime"
   ]
  },
  {
   "cell_type": "code",
   "execution_count": 4,
   "metadata": {},
   "outputs": [],
   "source": [
    "target_date = datetime.date(year=year, month=month, day=1)"
   ]
  },
  {
   "cell_type": "code",
   "execution_count": 5,
   "metadata": {},
   "outputs": [],
   "source": [
    "target_date = target_date.strftime(\"%Y%m\")"
   ]
  },
  {
   "cell_type": "code",
   "execution_count": 6,
   "metadata": {},
   "outputs": [
    {
     "data": {
      "text/plain": [
       "'201812'"
      ]
     },
     "execution_count": 6,
     "metadata": {},
     "output_type": "execute_result"
    }
   ],
   "source": [
    "target_date"
   ]
  },
  {
   "cell_type": "code",
   "execution_count": 7,
   "metadata": {},
   "outputs": [],
   "source": [
    "async def fetch(session, url):\n",
    "    async with session.get(url) as response:\n",
    "        return await response.text()"
   ]
  },
  {
   "cell_type": "code",
   "execution_count": 8,
   "metadata": {},
   "outputs": [],
   "source": [
    "async with aiohttp.ClientSession() as session:\n",
    "    json_str = await fetch(session, f\"http://api.cntv.cn/lanmu/videolistByColumnId?id=TOPC1451557646802924&n=90&of=fdate&p=1&type=0&serviceId=tvcctv&d={target_date}\")"
   ]
  },
  {
   "cell_type": "code",
   "execution_count": 9,
   "metadata": {},
   "outputs": [],
   "source": [
    "json_data = json.loads(json_str)['response']['docs']"
   ]
  },
  {
   "cell_type": "code",
   "execution_count": 10,
   "metadata": {},
   "outputs": [],
   "source": [
    "df = pd.DataFrame.from_records(json_data)"
   ]
  },
  {
   "cell_type": "code",
   "execution_count": 11,
   "metadata": {},
   "outputs": [
    {
     "data": {
      "text/plain": [
       "Index(['videoBrief', 'videoChannel', 'videoDeleteFlg', 'videoEditMode',\n",
       "       'videoFirstclass', 'videoFocusDate', 'videoId', 'videoKeyFrameUrl',\n",
       "       'videoKeyFrameUrl2', 'videoKeyFrameUrl3', 'videoLastmodifyDate',\n",
       "       'videoLength', 'videoMediaType', 'videoPlaystyle',\n",
       "       'videoProductiontime', 'videoPublishFlg', 'videoSecondclass',\n",
       "       'videoSharedCode', 'videoTag', 'videoThirdclass', 'videoTitle',\n",
       "       'videoUrl'],\n",
       "      dtype='object')"
      ]
     },
     "execution_count": 11,
     "metadata": {},
     "output_type": "execute_result"
    }
   ],
   "source": [
    "df.columns"
   ]
  },
  {
   "cell_type": "markdown",
   "metadata": {},
   "source": [
    "### 从标题中抽取，移除所有非数字 ###"
   ]
  },
  {
   "cell_type": "code",
   "execution_count": 12,
   "metadata": {},
   "outputs": [],
   "source": [
    "df['videoRecordDay'] = df['videoTitle'].map(lambda x: re.sub(\"[^0-9]\", \"\", x)).apply(pd.to_datetime)"
   ]
  },
  {
   "cell_type": "code",
   "execution_count": 13,
   "metadata": {},
   "outputs": [],
   "source": [
    "df.set_index('videoRecordDay', inplace=True)"
   ]
  },
  {
   "cell_type": "code",
   "execution_count": 14,
   "metadata": {},
   "outputs": [],
   "source": [
    "df.sort_index(inplace=True)"
   ]
  },
  {
   "cell_type": "code",
   "execution_count": 15,
   "metadata": {},
   "outputs": [
    {
     "data": {
      "text/plain": [
       "videoRecordDay\n",
       "2018-12-01    http://tv.cctv.com/2018/12/01/VIDEqBR9QDpARsgU...\n",
       "2018-12-02    http://tv.cctv.com/2018/12/02/VIDEKfFvjA6CpUZk...\n",
       "2018-12-03    http://tv.cctv.com/2018/12/03/VIDEgiw3auwyi03J...\n",
       "2018-12-04    http://tv.cctv.com/2018/12/04/VIDEhyIbPtdyzJSP...\n",
       "2018-12-05    http://tv.cctv.com/2018/12/05/VIDEMk8YGVSeT8jI...\n",
       "2018-12-06    http://tv.cctv.com/2018/12/06/VIDELRtDhzLZ0mzq...\n",
       "2018-12-07    http://tv.cctv.com/2018/12/07/VIDE583cAB994IwG...\n",
       "2018-12-08    http://tv.cctv.com/2018/12/08/VIDEPsvu3dbpcSxH...\n",
       "2018-12-09    http://tv.cctv.com/2018/12/09/VIDErLTbXUGhSKnk...\n",
       "2018-12-10    http://tv.cctv.com/2018/12/10/VIDEsY2GTjtODpQf...\n",
       "2018-12-11    http://tv.cctv.com/2018/12/11/VIDEeocB0tk8FvOl...\n",
       "2018-12-12    http://tv.cctv.com/2018/12/12/VIDEWKBV2ShHOO8S...\n",
       "2018-12-13    http://tv.cctv.com/2018/12/13/VIDEarmi0SCoCDCr...\n",
       "2018-12-14    http://tv.cctv.com/2018/12/14/VIDEe8Tv6QFIAqxQ...\n",
       "2018-12-15    http://tv.cctv.com/2018/12/15/VIDEeWE2vNJr7ewP...\n",
       "2018-12-16    http://tv.cctv.com/2018/12/16/VIDEhSigXOVtzmei...\n",
       "2018-12-17    http://tv.cctv.com/2018/12/17/VIDE0NDws0YPQ4Me...\n",
       "2018-12-18    http://tv.cctv.com/2018/12/18/VIDEY3xhZsU8fRN8...\n",
       "2018-12-19    http://tv.cctv.com/2018/12/19/VIDEZzaLUohd1eJs...\n",
       "2018-12-20    http://tv.cctv.com/2018/12/20/VIDEz1mcTzKn0Jk3...\n",
       "2018-12-21    http://tv.cctv.com/2018/12/21/VIDErQCEHeHiU0cA...\n",
       "2018-12-22    http://tv.cctv.com/2018/12/22/VIDEyPojkhZeVlQz...\n",
       "2018-12-23    http://tv.cctv.com/2018/12/23/VIDE84WvmUMCb5JZ...\n",
       "2018-12-24    http://tv.cctv.com/2018/12/24/VIDEebdVHm33urqS...\n",
       "2018-12-25    http://tv.cctv.com/2018/12/25/VIDEwRErKl5kA793...\n",
       "2018-12-26    http://tv.cctv.com/2018/12/26/VIDEAr6okkozkPCj...\n",
       "2018-12-27    http://tv.cctv.com/2018/12/27/VIDEJz8bcbPZ7Mfo...\n",
       "2018-12-28    http://tv.cctv.com/2018/12/28/VIDER3L1d5J0RZBY...\n",
       "2018-12-29    http://tv.cctv.com/2018/12/29/VIDEEZJ9NsiNsYO9...\n",
       "2018-12-30    http://tv.cctv.com/2018/12/30/VIDEv4J61BH68l3f...\n",
       "2018-12-31    http://tv.cctv.com/2018/12/31/VIDEYDCLHa0KRtxF...\n",
       "Name: videoUrl, dtype: object"
      ]
     },
     "execution_count": 15,
     "metadata": {},
     "output_type": "execute_result"
    }
   ],
   "source": [
    "df.loc[start_date:end_date, 'videoUrl']"
   ]
  },
  {
   "cell_type": "code",
   "execution_count": 16,
   "metadata": {},
   "outputs": [
    {
     "data": {
      "application/papermill.record+json": {
       "dn_list": [
        "http://tv.cctv.com/2018/12/01/VIDEqBR9QDpARsgUMHyrnD7o181201.shtml",
        "http://tv.cctv.com/2018/12/02/VIDEKfFvjA6CpUZkmF3oFfFk181202.shtml",
        "http://tv.cctv.com/2018/12/03/VIDEgiw3auwyi03JkHqbuioS181203.shtml",
        "http://tv.cctv.com/2018/12/04/VIDEhyIbPtdyzJSPsDTtJnvp181204.shtml",
        "http://tv.cctv.com/2018/12/05/VIDEMk8YGVSeT8jIFqahCpKz181205.shtml",
        "http://tv.cctv.com/2018/12/06/VIDELRtDhzLZ0mzqANcKx7Qm181206.shtml",
        "http://tv.cctv.com/2018/12/07/VIDE583cAB994IwGtrNt5YUX181207.shtml",
        "http://tv.cctv.com/2018/12/08/VIDEPsvu3dbpcSxH8PefcMaj181208.shtml",
        "http://tv.cctv.com/2018/12/09/VIDErLTbXUGhSKnkdj8xWPX6181209.shtml",
        "http://tv.cctv.com/2018/12/10/VIDEsY2GTjtODpQfSQCDuFw7181210.shtml",
        "http://tv.cctv.com/2018/12/11/VIDEeocB0tk8FvOlAaF0TkPF181211.shtml",
        "http://tv.cctv.com/2018/12/12/VIDEWKBV2ShHOO8SHD4LphXV181212.shtml",
        "http://tv.cctv.com/2018/12/13/VIDEarmi0SCoCDCrFEdfYO52181213.shtml",
        "http://tv.cctv.com/2018/12/14/VIDEe8Tv6QFIAqxQZiApemCR181214.shtml",
        "http://tv.cctv.com/2018/12/15/VIDEeWE2vNJr7ewPfN7NBePD181215.shtml",
        "http://tv.cctv.com/2018/12/16/VIDEhSigXOVtzmeiHLm77qge181216.shtml",
        "http://tv.cctv.com/2018/12/17/VIDE0NDws0YPQ4Me2O8XsKUd181217.shtml",
        "http://tv.cctv.com/2018/12/18/VIDEY3xhZsU8fRN8Kc1aqkNa181218.shtml",
        "http://tv.cctv.com/2018/12/19/VIDEZzaLUohd1eJs3Re5RauL181219.shtml",
        "http://tv.cctv.com/2018/12/20/VIDEz1mcTzKn0Jk3gTZJHE11181220.shtml",
        "http://tv.cctv.com/2018/12/21/VIDErQCEHeHiU0cAM2bYzcYw181221.shtml",
        "http://tv.cctv.com/2018/12/22/VIDEyPojkhZeVlQzEO3xnVZz181222.shtml",
        "http://tv.cctv.com/2018/12/23/VIDE84WvmUMCb5JZxaTkNLKd181223.shtml",
        "http://tv.cctv.com/2018/12/24/VIDEebdVHm33urqS47b0DfFf181224.shtml",
        "http://tv.cctv.com/2018/12/25/VIDEwRErKl5kA793O552mwLl181225.shtml",
        "http://tv.cctv.com/2018/12/26/VIDEAr6okkozkPCjJwZKTo0n181226.shtml",
        "http://tv.cctv.com/2018/12/27/VIDEJz8bcbPZ7MfoLmJhuyeb181227.shtml",
        "http://tv.cctv.com/2018/12/28/VIDER3L1d5J0RZBYJzNQw9kQ181228.shtml",
        "http://tv.cctv.com/2018/12/29/VIDEEZJ9NsiNsYO9TJ9hnA3a181229.shtml",
        "http://tv.cctv.com/2018/12/30/VIDEv4J61BH68l3fzfjcjz7B181230.shtml",
        "http://tv.cctv.com/2018/12/31/VIDEYDCLHa0KRtxF3TPfak9d181231.shtml"
       ]
      }
     },
     "metadata": {},
     "output_type": "display_data"
    }
   ],
   "source": [
    "pm.record(\"dn_list\", df.loc[start_date:end_date, 'videoUrl'].tolist())"
   ]
  },
  {
   "cell_type": "code",
   "execution_count": null,
   "metadata": {},
   "outputs": [],
   "source": []
  }
 ],
 "metadata": {
  "kernelspec": {
   "display_name": "Python 3",
   "language": "python",
   "name": "python3"
  },
  "language_info": {
   "codemirror_mode": {
    "name": "ipython",
    "version": 3
   },
   "file_extension": ".py",
   "mimetype": "text/x-python",
   "name": "python",
   "nbconvert_exporter": "python",
   "pygments_lexer": "ipython3",
   "version": "3.6.5"
  }
 },
 "nbformat": 4,
 "nbformat_minor": 2
}
