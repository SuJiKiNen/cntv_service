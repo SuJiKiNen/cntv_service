{
 "cells": [
  {
   "cell_type": "code",
   "execution_count": 1,
   "metadata": {
    "tags": [
     "parameters"
    ]
   },
   "outputs": [],
   "source": [
    "year = 2019\n",
    "month = 1\n",
    "start_date = None\n",
    "end_date = None\n",
    "program = 'TOPC1451546588784893'\n",
    "# TOPC1451557646802924"
   ]
  },
  {
   "cell_type": "code",
   "execution_count": 2,
   "metadata": {},
   "outputs": [],
   "source": [
    "import aiohttp"
   ]
  },
  {
   "cell_type": "code",
   "execution_count": 3,
   "metadata": {},
   "outputs": [],
   "source": [
    "import asyncio\n",
    "import json\n",
    "import pandas as pd\n",
    "import re\n",
    "import papermill as pm\n",
    "import datetime"
   ]
  },
  {
   "cell_type": "code",
   "execution_count": 4,
   "metadata": {},
   "outputs": [],
   "source": [
    "target_date = datetime.date(year=year, month=month, day=1)"
   ]
  },
  {
   "cell_type": "code",
   "execution_count": 5,
   "metadata": {},
   "outputs": [],
   "source": [
    "target_date = target_date.strftime(\"%Y%m\")"
   ]
  },
  {
   "cell_type": "code",
   "execution_count": 6,
   "metadata": {},
   "outputs": [
    {
     "data": {
      "text/plain": [
       "'201901'"
      ]
     },
     "execution_count": 6,
     "metadata": {},
     "output_type": "execute_result"
    }
   ],
   "source": [
    "target_date"
   ]
  },
  {
   "cell_type": "code",
   "execution_count": 7,
   "metadata": {},
   "outputs": [],
   "source": [
    "async def fetch(session, url):\n",
    "    async with session.get(url) as response:\n",
    "        return await response.text()"
   ]
  },
  {
   "cell_type": "code",
   "execution_count": 8,
   "metadata": {},
   "outputs": [],
   "source": [
    "async with aiohttp.ClientSession() as session:\n",
    "    json_str = await fetch(session, f\"http://api.cntv.cn/lanmu/videolistByColumnId?id={program}&n=90&of=fdate&p=1&type=0&serviceId=tvcctv&d={target_date}\")"
   ]
  },
  {
   "cell_type": "code",
   "execution_count": 9,
   "metadata": {},
   "outputs": [],
   "source": [
    "json_data = json.loads(json_str)['response']['docs']"
   ]
  },
  {
   "cell_type": "code",
   "execution_count": 10,
   "metadata": {},
   "outputs": [
    {
     "data": {
      "text/plain": [
       "'{\"response\":{\"start\":0,\"docs\":[{\"videoBrief\":\"本期节目主要内容：  圈友求助，猪油能不能吃？达人支招，教你轻松灌出美味香肠；圈友求助，用什么面粉做饺子皮更好吃？圈友求助，做馒头怎样和面更均匀？温暖回家路，西安开行首趟“暖心高铁专列”；关注身边的安全，安全用电，平安过年。 （《生活圈》 20190131）\",\"videoThirdclass\":\"\",\"videoSecondclass\":\"饮食,健康,居家,百科\",\"videoUrl\":\"http://tv.cctv.com/2019/01/31/VIDE80RtHHkDFFLZI2MznLqC190131.shtml\",\"videoEditMode\":\"0\",\"videoTitle\":\"《生活圈》 20190131\",\"videoFirstclass\":\"生活\",\"videoPlaystyle\":\"\",\"videoFocusDate\":\"1548902205000\",\"videoKeyFrameUrl\":\"http://p1.img.cctvpic.com/fmspic/2019/01/31/ddb10cebb08c400f9d9dfd31176c4bef-1270.jpg\",\"videoMediaType\":\"\",\"videoPublishFlg\":\"1\",\"videoTag\":\"生活圈，闻阳，猪油，饺子皮，“暖心高铁专列”，安全用电\",\"videoSharedCode\":\"ddb10cebb08c400f9d9dfd31176c4bef\",\"videoChannel\":\"\",\"videoId\":\"VIDE80RtHHkDFFLZI2MznLqC190131\",\"videoLength\":\"00:41:33\",\"videoLastmodifyDate\":\"1548925485000\",\"videoDeleteFlg\":\"0\",\"videoProductiontime\":\"1548901265000\",\"videoKeyFrameUrl2\":\"\",\"videoKeyFrameUrl3\":\"\"},{\"videoBrief\":\"本期节目主要内容：\\\\n1、大厨支招：如何做出美味的猪肉白菜馅饺子、素馅饺子和羊肉酸菜馅饺子；\\\\n2、怎么做鱼才能鲜？\\\\n3、大厨解答：猪肉、牛肉的分类及做法。（《生活圈》 20190130）\",\"videoThirdclass\":\"\",\"videoSecondclass\":\"饮食,健康,居家,百科\",\"videoUrl\":\"http://tv.cctv.com/2019/01/30/VIDElGMSIlEFBeuiagWjWnXU190130.shtml\",\"videoEditMode\":\"0\",\"videoTitle\":\"《生活圈》 20190130\",\"videoFirstclass\":\"生活\",\"videoPlaystyle\":\"\",\"videoFocusDate\":\"1548814727000\",\"videoKeyFrameUrl\":\"http://p3.img.cctvpic.com/fmspic/2019/01/30/c89fcd81e78a45d3a86417f6ffaf2484-1269.jpg\",\"videoMediaType\":\"\",\"videoPublishFlg\":\"1\",\"videoTag\":\"生活圈，闻阳，猪肉白菜馅饺子，素馅饺子，羊肉酸菜馅饺子，鱼，猪肉，牛肉\",\"videoSharedCode\":\"c89fcd81e78a45d3a86417f6ffaf2484\",\"videoChannel\":\"\",\"videoId\":\"VIDElGMSIlEFBeuiagWjWnXU190130\",\"videoLength\":\"00:41:58\",\"videoLastmodifyDate\":\"1548839447000\",\"videoDeleteFlg\":\"0\",\"videoProductiontime\":\"1548812813000\",\"videoKeyFrameUrl2\":\"\",\"videoKeyFrameUrl3\":\"\"},{\"videoBrief\":\"本期节目主要内容：\\\\n1、不可忽视的溃疡 男子反复口腔溃疡 竟发展成舌癌；\\\\n2、圈友求助 海带颜色不一 会是染色的吗？\\\\n3、圈友求助 土豆切开有紫色伤痕还能吃吗？\\\\n4、圈友求助 人人都适合吃核桃吗？\\\\n5、圈友求助 长期吃鸡脖鸭脖会中毒吗？\\\\n6、圈友求助 不同种类的鸡该如何选择？\\\\n7、圈友求助 如何做出不油腻的脱骨鸡翅？\\\\n8、圈友求助 如何打扫床底下？\\\\n（《生活圈》 20190129）\",\"videoThirdclass\":\"\",\"videoSecondclass\":\"饮食,健康,居家,百科\",\"videoUrl\":\"http://tv.cctv.com/2019/01/29/VIDEtXUExVc97DvMWvJaZ7Fa190129.shtml\",\"videoEditMode\":\"0\",\"videoTitle\":\"《生活圈》 20190129\",\"videoFirstclass\":\"生活\",\"videoPlaystyle\":\"\",\"videoFocusDate\":\"1548732050000\",\"videoKeyFrameUrl\":\"http://p3.img.cctvpic.com/fmspic/2019/01/29/6989b0a4f75e4e5bb2ef558a0aff1c66-2518.jpg\",\"videoMediaType\":\"\",\"videoPublishFlg\":\"1\",\"videoTag\":\"生活圈，阿丘，口腔溃疡，舌癌，海带颜色，鸡脖鸭脖\",\"videoSharedCode\":\"6989b0a4f75e4e5bb2ef558a0aff1c66\",\"videoChannel\":\"\",\"videoId\":\"VIDEtXUExVc97DvMWvJaZ7Fa190129\",\"videoLength\":\"00:41:51\",\"videoLastmodifyDate\":\"1548837408000\",\"videoDeleteFlg\":\"0\",\"videoProductiontime\":\"1548730560000\",\"videoKeyFrameUrl2\":\"\",\"videoKeyFrameUrl3\":\"\"},{\"videoBrief\":\"本期节目主要内容：\\\\n    圈友求助，外壳怪异的鸡蛋还能吃吗？圆生菜黑心的原因是什么？球状包叶蔬菜如何挑选？圈友求助，变心的萝卜还能吃吗？圈友求助，长时间冷藏加工肉食品会产生亚硝酸盐吗？圈友求助，如何去除下水道异味？\\\\n（《生活圈》 20190128）\",\"videoThirdclass\":\"\",\"videoSecondclass\":\"饮食,健康,居家,百科\",\"videoUrl\":\"http://tv.cctv.com/2019/01/28/VIDEsOoSUpzXR4R28otvPBTg190128.shtml\",\"videoEditMode\":\"0\",\"videoTitle\":\"《生活圈》 20190128\",\"videoFirstclass\":\"生活\",\"videoPlaystyle\":\"\",\"videoFocusDate\":\"1548644930000\",\"videoKeyFrameUrl\":\"http://p5.img.cctvpic.com/fmspic/2019/01/28/450b3bf34ee04bff89c64e177ba42002-1270.jpg\",\"videoMediaType\":\"\",\"videoPublishFlg\":\"1\",\"videoTag\":\"生活圈，阿丘，变色的白菜，球状包叶蔬菜，冷藏加工肉食品，亚硝酸盐，生活妙招\",\"videoSharedCode\":\"450b3bf34ee04bff89c64e177ba42002\",\"videoChannel\":\"\",\"videoId\":\"VIDEsOoSUpzXR4R28otvPBTg190128\",\"videoLength\":\"00:41:49\",\"videoLastmodifyDate\":\"1548664853000\",\"videoDeleteFlg\":\"0\",\"videoProductiontime\":\"1548644057000\",\"videoKeyFrameUrl2\":\"\",\"videoKeyFrameUrl3\":\"\"},{\"videoBrief\":\"本期节目主要内容：  圈友求助，冬季容易上火怎么办？圈友求助，如何挑选奶制品？圈友求助，吃海参可以提高免疫力吗？圈友求助，燕窝营养价值真的不如鸡蛋吗？燕窝中亚硝酸盐含量高？专家解答，美国杏仁是不是杏仁？苦杏仁有毒会致命？ （《生活圈》 20190125）\",\"videoThirdclass\":\"\",\"videoSecondclass\":\"饮食,健康,居家,百科\",\"videoUrl\":\"http://tv.cctv.com/2019/01/25/VIDEk5qdAleNNv0DauLupcif190125.shtml\",\"videoEditMode\":\"0\",\"videoTitle\":\"《生活圈》 20190125\",\"videoFirstclass\":\"生活\",\"videoPlaystyle\":\"\",\"videoFocusDate\":\"1548382496000\",\"videoKeyFrameUrl\":\"http://p5.img.cctvpic.com/fmspic/2019/01/25/c4f7d340e0104fac90c845ede00c89f1-1270.jpg\",\"videoMediaType\":\"\",\"videoPublishFlg\":\"1\",\"videoTag\":\"生活圈，舒冬，奶制品，海参，燕窝，杏仁\",\"videoSharedCode\":\"c4f7d340e0104fac90c845ede00c89f1\",\"videoChannel\":\"\",\"videoId\":\"VIDEk5qdAleNNv0DauLupcif190125\",\"videoLength\":\"00:41:51\",\"videoLastmodifyDate\":\"1548400981000\",\"videoDeleteFlg\":\"0\",\"videoProductiontime\":\"1548381387000\",\"videoKeyFrameUrl2\":\"\",\"videoKeyFrameUrl3\":\"\"},{\"videoBrief\":\"本期节目主要内容：\\\\n    回家路上的安全 车上休息财物贴身 莫让窃贼钻了空；圈友求助 口水多可能暗藏哪些疾病；圈友求助 红色的大米是怎么回事；圈友求助 大葱该如何保鲜；圈友求助 猪肝上有白斑是怎么回事。\\\\n（《生活圈》 20190124）\",\"videoThirdclass\":\"\",\"videoSecondclass\":\"饮食,健康,居家,百科\",\"videoUrl\":\"http://tv.cctv.com/2019/01/24/VIDELIGodSPXzvD2zhAU7fVP190124.shtml\",\"videoEditMode\":\"0\",\"videoTitle\":\"《生活圈》 20190124\",\"videoFirstclass\":\"生活\",\"videoPlaystyle\":\"\",\"videoFocusDate\":\"1548298497000\",\"videoKeyFrameUrl\":\"http://p2.img.cctvpic.com/fmspic/2019/01/24/1951e050de5342ea83c7767ac560b00b-1270.jpg\",\"videoMediaType\":\"\",\"videoPublishFlg\":\"1\",\"videoTag\":\"生活圈，舒冬，回家路上的安全，口水多，红色的大米，大葱，猪肝\",\"videoSharedCode\":\"1951e050de5342ea83c7767ac560b00b\",\"videoChannel\":\"\",\"videoId\":\"VIDELIGodSPXzvD2zhAU7fVP190124\",\"videoLength\":\"00:41:53\",\"videoLastmodifyDate\":\"1548319017000\",\"videoDeleteFlg\":\"0\",\"videoProductiontime\":\"1548297829000\",\"videoKeyFrameUrl2\":\"\",\"videoKeyFrameUrl3\":\"\"},{\"videoBrief\":\"本期节目主要内容：\\\\n    回家路上的安全，四秒钟作案得手，被害人浑然不觉；专家解答：暖气上烘干衣服有何危害？圈友求助：如何做到包韭菜馅饺子不出水？圈友支招：毛巾+小木棍拍打法；回家路上的安全，乘坐火车注意这些“日常用品”；春运安全，乘火车突发心脏病，乘警心肺复苏施救。\\\\n（《生活圈》 20190123）\",\"videoThirdclass\":\"\",\"videoSecondclass\":\"饮食,健康,居家,百科\",\"videoUrl\":\"http://tv.cctv.com/2019/01/23/VIDEkafD6rnmAZNZjNfTyocg190123.shtml\",\"videoEditMode\":\"0\",\"videoTitle\":\"《生活圈》 20190123\",\"videoFirstclass\":\"生活\",\"videoPlaystyle\":\"\",\"videoFocusDate\":\"1548214860000\",\"videoKeyFrameUrl\":\"http://p5.img.cctvpic.com/fmspic/2019/01/23/456a56d0195548eb9685d31ee28574ea-1270.jpg\",\"videoMediaType\":\"\",\"videoPublishFlg\":\"1\",\"videoTag\":\"生活圈，闻阳，扒窃陷阱，暖气，水果罐头，韭菜馅饺子，“日常用品”，春运安全\",\"videoSharedCode\":\"456a56d0195548eb9685d31ee28574ea\",\"videoChannel\":\"\",\"videoId\":\"VIDEkafD6rnmAZNZjNfTyocg190123\",\"videoLength\":\"00:41:47\",\"videoLastmodifyDate\":\"1548233222000\",\"videoDeleteFlg\":\"0\",\"videoProductiontime\":\"1548214107000\",\"videoKeyFrameUrl2\":\"\",\"videoKeyFrameUrl3\":\"\"},{\"videoBrief\":\"本期节目主要内容：\\\\n1、圈友求助 嗓子哑久治不愈是什么情况；\\\\n2、躲过体检的癌症；\\\\n3、圈友求助 这些“养生疗法”到底靠谱吗；\\\\n4、圈友求助 “蛋黄油”真有保健功效吗；\\\\n5、圈友求助 热水泡脚能缓解静脉曲张吗；\\\\n6、圈友求助 青壳鸡蛋营养价值更高吗？\\\\n（《生活圈》 20190122）\",\"videoThirdclass\":\"\",\"videoSecondclass\":\"饮食,健康,居家\",\"videoUrl\":\"http://tv.cctv.com/2019/01/22/VIDE583tr4DTBOdMPS1Eo68h190122.shtml\",\"videoEditMode\":\"0\",\"videoTitle\":\"《生活圈》 20190122\",\"videoFirstclass\":\"生活\",\"videoPlaystyle\":\"\",\"videoFocusDate\":\"1548125460000\",\"videoKeyFrameUrl\":\"http://p2.img.cctvpic.com/fmspic/2019/01/22/1fbb2ac5fcd24404b1ab9fd93be5d259-2519.jpg\",\"videoMediaType\":\"\",\"videoPublishFlg\":\"1\",\"videoTag\":\"生活圈，闻阳，嗓子哑，癌症，养生疗法，蛋黄油，静脉曲张，青壳鸡蛋\",\"videoSharedCode\":\"1fbb2ac5fcd24404b1ab9fd93be5d259\",\"videoChannel\":\"\",\"videoId\":\"VIDE583tr4DTBOdMPS1Eo68h190122\",\"videoLength\":\"00:41:48\",\"videoLastmodifyDate\":\"1548151860000\",\"videoDeleteFlg\":\"0\",\"videoProductiontime\":\"1548124849000\",\"videoKeyFrameUrl2\":\"\",\"videoKeyFrameUrl3\":\"\"},{\"videoBrief\":\"本期节目主要内容：\\\\n1、圈友求助 如何挑选品质高的酱油；\\\\n2、圈友求助 常吃鸡精会影响健康吗；\\\\n3、圈友求助 结晶的蜂蜜还能吃吗；\\\\n4、圈友求助 身体乏累 怕冷是肾虚的表现吗；\\\\n5、圈友求助 丹参到底有哪些功效？\\\\n（《生活圈》 20190121）\",\"videoThirdclass\":\"\",\"videoSecondclass\":\"饮食,健康,居家\",\"videoUrl\":\"http://tv.cctv.com/2019/01/21/VIDEm196PO0iAXQ4RO9JToAM190121.shtml\",\"videoEditMode\":\"0\",\"videoTitle\":\"《生活圈》 20190121\",\"videoFirstclass\":\"生活\",\"videoPlaystyle\":\"\",\"videoFocusDate\":\"1548039427000\",\"videoKeyFrameUrl\":\"http://p3.img.cctvpic.com/fmspic/2019/01/21/60faf2d3608c45ab90541b8c8cef099a-2518.jpg\",\"videoMediaType\":\"\",\"videoPublishFlg\":\"1\",\"videoTag\":\"生活圈，阿丘，酱油，鸡精，蜂蜜，肾虚，丹参\",\"videoSharedCode\":\"60faf2d3608c45ab90541b8c8cef099a\",\"videoChannel\":\"\",\"videoId\":\"VIDEm196PO0iAXQ4RO9JToAM190121\",\"videoLength\":\"00:41:51\",\"videoLastmodifyDate\":\"1548073382000\",\"videoDeleteFlg\":\"0\",\"videoProductiontime\":\"1548038739000\",\"videoKeyFrameUrl2\":\"\",\"videoKeyFrameUrl3\":\"\"},{\"videoBrief\":\"本期节目主要内容：\\\\n    不容忽视的脚凉，男子腿脚发凉，竟险些截肢；小腿酸痛可能猝死，久坐打牌小腿肿痛，男子险送命；腰腿疼痛暗藏健康隐患，膝盖疼痛三十余年，竟是髋关节疾病惹祸端；疼痛难忍的夜尿，女子患病四年，每晚起夜十多次。\\\\n（《生活圈》 20190118）\",\"videoThirdclass\":\"\",\"videoSecondclass\":\"社会,国内,综合\",\"videoUrl\":\"http://tv.cctv.com/2019/01/18/VIDE3bHU3TvFnwNEfp8odZdO190118.shtml\",\"videoEditMode\":\"0\",\"videoTitle\":\"《生活圈》 20190118\",\"videoFirstclass\":\"新闻\",\"videoPlaystyle\":\"\",\"videoFocusDate\":\"1547780469000\",\"videoKeyFrameUrl\":\"http://p1.img.cctvpic.com/fmspic/2019/01/18/a92c648cbb3842888ce06ea5a9dcb933-2502.jpg\",\"videoMediaType\":\"\",\"videoPublishFlg\":\"1\",\"videoTag\":\"生活圈，闻阳，腿脚发凉，小腿酸痛，髋关节疾病，夜尿，丸子汤\",\"videoSharedCode\":\"a92c648cbb3842888ce06ea5a9dcb933\",\"videoChannel\":\"\",\"videoId\":\"VIDE3bHU3TvFnwNEfp8odZdO190118\",\"videoLength\":\"00:41:33\",\"videoLastmodifyDate\":\"1547792108000\",\"videoDeleteFlg\":\"0\",\"videoProductiontime\":\"1547779801000\",\"videoKeyFrameUrl2\":\"\",\"videoKeyFrameUrl3\":\"\"},{\"videoBrief\":\"本期节目主要内容：\\\\n    关注出行安全，男子醉酒乘车，不仅拿错包还丢包；圈友求助：脉搏跳动不规律是怎么回事？专家解答：怎么看待肿瘤标志物？专家解答：水果果肉为什么是五颜六色的？圈友分享：面糊+厨房用纸，清洗油烟机。\\\\n（《生活圈》 20190117）\",\"videoThirdclass\":\"\",\"videoSecondclass\":\"社会,国内,综合,民生\",\"videoUrl\":\"http://tv.cctv.com/2019/01/17/VIDEjeV5I2bBRvDTHa8RIr6n190117.shtml\",\"videoEditMode\":\"0\",\"videoTitle\":\"《生活圈》 20190117\",\"videoFirstclass\":\"新闻\",\"videoPlaystyle\":\"\",\"videoFocusDate\":\"1547692152000\",\"videoKeyFrameUrl\":\"http://p5.img.cctvpic.com/fmspic/2019/01/17/5e95807c4de14e6fbe229c7b210216b7-1270.jpg\",\"videoMediaType\":\"\",\"videoPublishFlg\":\"1\",\"videoTag\":\"生活圈，闻阳，出行安全，脉搏跳动，肿瘤标志物，色素，油烟机，菊花茶\",\"videoSharedCode\":\"5e95807c4de14e6fbe229c7b210216b7\",\"videoChannel\":\"\",\"videoId\":\"VIDEjeV5I2bBRvDTHa8RIr6n190117\",\"videoLength\":\"00:41:49\",\"videoLastmodifyDate\":\"1547710992000\",\"videoDeleteFlg\":\"0\",\"videoProductiontime\":\"1547691572000\",\"videoKeyFrameUrl2\":\"\",\"videoKeyFrameUrl3\":\"\"},{\"videoBrief\":\"本期节目主要内容：\\\\n    流感来袭，科学预防，圈友支招：如何对抗流感；长期吃素危害健康吗？专家解答：如何健康吃素；被误解的老寒腿，专家支招：老寒腿如何康复保养；圈友支招，巧用擦玻璃器；圈友求助，窗槽如何清理？\\\\n（《生活圈》 20190116）\",\"videoThirdclass\":\"\",\"videoSecondclass\":\"饮食,健康,其他,居家\",\"videoUrl\":\"http://tv.cctv.com/2019/01/16/VIDETkyAL5o8eDCt4ZZF4BDm190116.shtml\",\"videoEditMode\":\"0\",\"videoTitle\":\"《生活圈》 20190116\",\"videoFirstclass\":\"生活\",\"videoPlaystyle\":\"\",\"videoFocusDate\":\"1547607915000\",\"videoKeyFrameUrl\":\"http://p2.img.cctvpic.com/fmspic/2019/01/16/959ea9a13a8e4871b4364e6705d93d61-1270.jpg\",\"videoMediaType\":\"\",\"videoPublishFlg\":\"1\",\"videoTag\":\"生活圈，闻阳，流感，健康吃素，老寒腿，擦玻璃器\",\"videoSharedCode\":\"959ea9a13a8e4871b4364e6705d93d61\",\"videoChannel\":\"\",\"videoId\":\"VIDETkyAL5o8eDCt4ZZF4BDm190116\",\"videoLength\":\"00:41:47\",\"videoLastmodifyDate\":\"1547624114000\",\"videoDeleteFlg\":\"0\",\"videoProductiontime\":\"1547611685000\",\"videoKeyFrameUrl2\":\"\",\"videoKeyFrameUrl3\":\"\"},{\"videoBrief\":\"本期节目主要内容：\\\\n    圈友求助，长期便秘如何应对？专家解答，长期食用过烫食物对食管伤害有多大？圈友求助，吃腐乳到底对身体好不好？专家解答，糖蒜、咸鸭蛋食品对身体有害吗？圈友求助，“卫食健字”“国食健字”代表什么？\\\\n（《生活圈》 20190115）\",\"videoThirdclass\":\"\",\"videoSecondclass\":\"社会,国内,综合\",\"videoUrl\":\"http://tv.cctv.com/2019/01/15/VIDE7RLzIYnkGQR6UJrsFk5g190115.shtml\",\"videoEditMode\":\"0\",\"videoTitle\":\"《生活圈》 20190115\",\"videoFirstclass\":\"新闻\",\"videoPlaystyle\":\"\",\"videoFocusDate\":\"1547520672000\",\"videoKeyFrameUrl\":\"http://p3.img.cctvpic.com/fmspic/2019/01/15/33ccbb6302d54d29815c1ce2468e31b6-1270.jpg\",\"videoMediaType\":\"\",\"videoPublishFlg\":\"1\",\"videoTag\":\"生活圈，阿丘，便秘，食管健康，腐乳，排毒，保健品\",\"videoSharedCode\":\"33ccbb6302d54d29815c1ce2468e31b6\",\"videoChannel\":\"\",\"videoId\":\"VIDE7RLzIYnkGQR6UJrsFk5g190115\",\"videoLength\":\"00:41:50\",\"videoLastmodifyDate\":\"1547549592000\",\"videoDeleteFlg\":\"0\",\"videoProductiontime\":\"1547518651000\",\"videoKeyFrameUrl2\":\"\",\"videoKeyFrameUrl3\":\"\"},{\"videoBrief\":\"本期节目主要内容：  圈友求助，速冻预制肉制品究竟是什么肉？小圈调查，可乐加热之后出现的黑色胶状物是什么？圈友求助，舌头的变化可以反映出健康状况吗？警惕药物的副作用，长期服用阿司匹林，女子胃部不适致吐血；圈友求助，电水壶里的水垢如何处理？ （《生活圈》 20190114）\",\"videoThirdclass\":\"\",\"videoSecondclass\":\"社会,国内,综合\",\"videoUrl\":\"http://tv.cctv.com/2019/01/14/VIDEBNA3fbxJdfFShSsz1ceI190114.shtml\",\"videoEditMode\":\"0\",\"videoTitle\":\"《生活圈》 20190114\",\"videoFirstclass\":\"新闻\",\"videoPlaystyle\":\"\",\"videoFocusDate\":\"1547432594000\",\"videoKeyFrameUrl\":\"http://p4.img.cctvpic.com/fmspic/2019/01/14/dcaa3c3ba3834978ab89402b4447134b-2519.jpg\",\"videoMediaType\":\"\",\"videoPublishFlg\":\"1\",\"videoTag\":\"生活圈，闻阳，速冻预制肉制品，舌头，阿司匹林，水垢\",\"videoSharedCode\":\"dcaa3c3ba3834978ab89402b4447134b\",\"videoChannel\":\"\",\"videoId\":\"VIDEBNA3fbxJdfFShSsz1ceI190114\",\"videoLength\":\"00:41:48\",\"videoLastmodifyDate\":\"1547449754000\",\"videoDeleteFlg\":\"0\",\"videoProductiontime\":\"1547431504000\",\"videoKeyFrameUrl2\":\"\",\"videoKeyFrameUrl3\":\"\"},{\"videoBrief\":\"本期节目主要内容：\\\\n   圈友求助：腰间上的小肉球对人体有危害吗？不容忽视的脚踝疼；圈友求助：冻疮反复发作怎么办？圈友求助：长须子的胡萝卜还能吃吗？圈友求助：如何泡出色泽翠绿的腊八蒜？专家支招：腊八蒜应该如何保存。\\\\n（《生活圈》 20190111）\",\"videoThirdclass\":\"\",\"videoSecondclass\":\"社会,国内,综合\",\"videoUrl\":\"http://tv.cctv.com/2019/01/11/VIDEEr4DgPMbKw8gszRTRfaa190111.shtml\",\"videoEditMode\":\"0\",\"videoTitle\":\"《生活圈》 20190111\",\"videoFirstclass\":\"新闻\",\"videoPlaystyle\":\"\",\"videoFocusDate\":\"1547175924000\",\"videoKeyFrameUrl\":\"http://p4.img.cctvpic.com/fmspic/2019/01/11/e9f5788bcdf441b4862ead74b9740332-1270.jpg\",\"videoMediaType\":\"\",\"videoPublishFlg\":\"1\",\"videoTag\":\"生活圈，舒冬，小肉球，脚踝疼，冻疮，食物储存，腊八蒜\",\"videoSharedCode\":\"e9f5788bcdf441b4862ead74b9740332\",\"videoChannel\":\"\",\"videoId\":\"VIDEEr4DgPMbKw8gszRTRfaa190111\",\"videoLength\":\"00:41:46\",\"videoLastmodifyDate\":\"1547189484000\",\"videoDeleteFlg\":\"0\",\"videoProductiontime\":\"1547174776000\",\"videoKeyFrameUrl2\":\"\",\"videoKeyFrameUrl3\":\"\"},{\"videoBrief\":\"本期节目主要内容：\\\\n    坚果如何挑选？圈友求助：豆角没熟会有毒？专家解答：青西红柿不能生食；危险的泡脚，泡脚几分钟，险些遭截肢；冬季心梗高发，学会科学应对，男子脖子疼痛，原是心梗前兆；关注出行安全。\\\\n（《生活圈》 20190110）\",\"videoThirdclass\":\"\",\"videoSecondclass\":\"社会,国内,综合\",\"videoUrl\":\"http://tv.cctv.com/2019/01/10/VIDEHgT9HN8RoZ403gcJhNaq190110.shtml\",\"videoEditMode\":\"0\",\"videoTitle\":\"《生活圈》 20190110\",\"videoFirstclass\":\"新闻\",\"videoPlaystyle\":\"\",\"videoFocusDate\":\"1547086881000\",\"videoKeyFrameUrl\":\"http://p5.img.cctvpic.com/fmspic/2019/01/10/d7bd8b55f5c8436ea51972ab9f913755-1270.jpg\",\"videoMediaType\":\"\",\"videoPublishFlg\":\"1\",\"videoTag\":\"生活圈，舒冬，坚果，豆浆，危险的泡脚，发物，出行安全\",\"videoSharedCode\":\"d7bd8b55f5c8436ea51972ab9f913755\",\"videoChannel\":\"\",\"videoId\":\"VIDEHgT9HN8RoZ403gcJhNaq190110\",\"videoLength\":\"00:41:51\",\"videoLastmodifyDate\":\"1547115929000\",\"videoDeleteFlg\":\"0\",\"videoProductiontime\":\"1547086220000\",\"videoKeyFrameUrl2\":\"\",\"videoKeyFrameUrl3\":\"\"},{\"videoBrief\":\"本期节目主要内容：\\\\n    圈友求助，膝盖总是响是什么原因？圈友求助，生吃板栗到底能不能补肾？圈友求助，嘴起泡是什么原因？专家提示，适当吃肉有助于润肠通便；警惕吃山楂背后的风险，老人吃山楂助消化，不料吃出胃结石。\\\\n（《生活圈》 20190109）\",\"videoThirdclass\":\"\",\"videoSecondclass\":\"社会,国内,综合\",\"videoUrl\":\"http://tv.cctv.com/2019/01/09/VIDEWMdm3FR4hR7RwKJa2s4L190109.shtml\",\"videoEditMode\":\"0\",\"videoTitle\":\"《生活圈》 20190109\",\"videoFirstclass\":\"新闻\",\"videoPlaystyle\":\"\",\"videoFocusDate\":\"1547007567000\",\"videoKeyFrameUrl\":\"http://p2.img.cctvpic.com/fmspic/2019/01/09/f9d987b9f0e74971b3d7bcc4dfa9eda3-1270.jpg\",\"videoMediaType\":\"\",\"videoPublishFlg\":\"1\",\"videoTag\":\"生活圈，舒冬，膝盖健康，水果生吃，生吃板栗，口角炎，用电安全\",\"videoSharedCode\":\"f9d987b9f0e74971b3d7bcc4dfa9eda3\",\"videoChannel\":\"\",\"videoId\":\"VIDEWMdm3FR4hR7RwKJa2s4L190109\",\"videoLength\":\"00:41:48\",\"videoLastmodifyDate\":\"1547021726000\",\"videoDeleteFlg\":\"0\",\"videoProductiontime\":\"1547000712000\",\"videoKeyFrameUrl2\":\"\",\"videoKeyFrameUrl3\":\"\"},{\"videoBrief\":\"本期节目主要内容：  圈友求助，癌症会遗传吗？专家解答，癌症是否会传染？圈友求助，真的存在抗癌食品吗？圈友求助，面条含有甲醛，这是真的吗？圈友求助，“神奇洗洁精”可去除蔬菜农残？大厨支招，杏鲍菇巧变宫保鸡丁。 （《生活圈》 20190108）\",\"videoThirdclass\":\"\",\"videoSecondclass\":\"社会,国内,综合\",\"videoUrl\":\"http://tv.cctv.com/2019/01/08/VIDED9IYp2KYNiEoyfYptVY5190108.shtml\",\"videoEditMode\":\"0\",\"videoTitle\":\"《生活圈》 20190108\",\"videoFirstclass\":\"新闻\",\"videoPlaystyle\":\"\",\"videoFocusDate\":\"1546915406000\",\"videoKeyFrameUrl\":\"http://p2.img.cctvpic.com/fmspic/2019/01/08/1b439d76873d48188acaee3cb60868af-1270.jpg\",\"videoMediaType\":\"\",\"videoPublishFlg\":\"1\",\"videoTag\":\"生活圈，阿丘，癌症，甲醛，“神奇洗洁精”，杏鲍菇\",\"videoSharedCode\":\"1b439d76873d48188acaee3cb60868af\",\"videoChannel\":\"\",\"videoId\":\"VIDED9IYp2KYNiEoyfYptVY5190108\",\"videoLength\":\"00:41:48\",\"videoLastmodifyDate\":\"1546938684000\",\"videoDeleteFlg\":\"0\",\"videoProductiontime\":\"1546913165000\",\"videoKeyFrameUrl2\":\"\",\"videoKeyFrameUrl3\":\"\"},{\"videoBrief\":\"本期节目主要内容：专家解答，如何预防感染肉类寄生虫？圈友求助，米粒少但是黏稠的米粥安全吗？排痰不畅怎么办？感冒引发感染，老人积痰致呼吸困难；圈友求助，洗衣机里的脏东西怎么清洗？圈友求助，如何巧去“核桃衣”？ （《生活圈》 20190107）\",\"videoThirdclass\":\"\",\"videoSecondclass\":\"社会,国内,综合\",\"videoUrl\":\"http://tv.cctv.com/2019/01/07/VIDEZlbvgMhAbBQfoY3gELfy190107.shtml\",\"videoEditMode\":\"0\",\"videoTitle\":\"《生活圈》 20190107\",\"videoFirstclass\":\"新闻\",\"videoPlaystyle\":\"\",\"videoFocusDate\":\"1546827447000\",\"videoKeyFrameUrl\":\"http://p1.img.cctvpic.com/fmspic/2019/01/07/b250d1d67470481584668f354f1b94e0-2519.jpg\",\"videoMediaType\":\"\",\"videoPublishFlg\":\"1\",\"videoTag\":\"生活圈，闻阳，寄生虫，积痰，“核桃衣”\",\"videoSharedCode\":\"b250d1d67470481584668f354f1b94e0\",\"videoChannel\":\"\",\"videoId\":\"VIDEZlbvgMhAbBQfoY3gELfy190107\",\"videoLength\":\"00:41:48\",\"videoLastmodifyDate\":\"1546859727000\",\"videoDeleteFlg\":\"0\",\"videoProductiontime\":\"1546826335000\",\"videoKeyFrameUrl2\":\"\",\"videoKeyFrameUrl3\":\"\"},{\"videoBrief\":\"本期节目主要内容：\\\\n    万能的“干细胞”？ 组团赴国外注射干细胞，真能延长寿命？蜂胶如何保健，吃蜂胶为降糖，不料血糖不降反升；眼皮跳，要小心；圈友求助，鸭肉变色还能吃吗？圈友求助，如何将拖把上的油污清洗干净？\\\\n（《生活圈》 20190104）\",\"videoThirdclass\":\"\",\"videoSecondclass\":\"社会,国内,综合\",\"videoUrl\":\"http://tv.cctv.com/2019/01/04/VIDEhqTlEg7Vs3rN12NRly8Y190104.shtml\",\"videoEditMode\":\"0\",\"videoTitle\":\"《生活圈》 20190104\",\"videoFirstclass\":\"新闻\",\"videoPlaystyle\":\"\",\"videoFocusDate\":\"1546570291000\",\"videoKeyFrameUrl\":\"http://p5.img.cctvpic.com/fmspic/2019/01/04/7d5e1d4a5639446c884f7192c52a3427-2511.jpg\",\"videoMediaType\":\"\",\"videoPublishFlg\":\"1\",\"videoTag\":\"生活圈，闻阳，干细胞，蜂胶保健，警惕眼皮跳，鸭肉变色，小苏打结块，拖把油污\",\"videoSharedCode\":\"7d5e1d4a5639446c884f7192c52a3427\",\"videoChannel\":\"\",\"videoId\":\"VIDEhqTlEg7Vs3rN12NRly8Y190104\",\"videoLength\":\"00:41:40\",\"videoLastmodifyDate\":\"1546598856000\",\"videoDeleteFlg\":\"0\",\"videoProductiontime\":\"1546569252000\",\"videoKeyFrameUrl2\":\"\",\"videoKeyFrameUrl3\":\"\"},{\"videoBrief\":\"本期节目主要内容：\\\\n    圈友求助，猪肉汤为什么变成了“牛奶”？动物内脏的营养秘密，女子偏爱动物内脏，结石差点要了命；一碗药水惹的祸，11岁女孩误喝药水，导致手脚畸形；手脚冰凉要警惕。\\\\n（《生活圈》 20190103）\",\"videoThirdclass\":\"\",\"videoSecondclass\":\"社会,国内,综合\",\"videoUrl\":\"http://tv.cctv.com/2019/01/03/VIDEKLFHbC8K2AO7yj1dpNag190103.shtml\",\"videoEditMode\":\"0\",\"videoTitle\":\"《生活圈》 20190103\",\"videoFirstclass\":\"新闻\",\"videoPlaystyle\":\"\",\"videoFocusDate\":\"1546481493000\",\"videoKeyFrameUrl\":\"http://p3.img.cctvpic.com/fmspic/2019/01/03/9f7ff9e10e934a27b7a1929302f91d91-1270.jpg\",\"videoMediaType\":\"\",\"videoPublishFlg\":\"1\",\"videoTag\":\"生活圈，闻阳，猪肉汤，“牛奶”，动物内脏，偏方危害，警惕手脚冰凉\",\"videoSharedCode\":\"9f7ff9e10e934a27b7a1929302f91d91\",\"videoChannel\":\"\",\"videoId\":\"VIDEKLFHbC8K2AO7yj1dpNag190103\",\"videoLength\":\"00:41:51\",\"videoLastmodifyDate\":\"1546500692000\",\"videoDeleteFlg\":\"0\",\"videoProductiontime\":\"1546480472000\",\"videoKeyFrameUrl2\":\"\",\"videoKeyFrameUrl3\":\"\"},{\"videoBrief\":\"本期节目主要内容：  小心感染EB病毒，一周内反复发烧，罪魁祸首是EB病毒；警惕补硒骗局，商家设“补硒”陷阱，老人上当愿掏钱；专家解答，缺硒可能会带来哪些疾病？专家解答，缺钙真的会引发猝死吗？圈友求助，全脂，低脂，脱脂牛奶该如何选择？圈友求助，明胶，植脂末会危害身体健康吗？ （《生活圈》 20190102）\",\"videoThirdclass\":\"\",\"videoSecondclass\":\"社会,国内,综合\",\"videoUrl\":\"http://tv.cctv.com/2019/01/02/VIDEyG4W0kxrjaIiqfCtz8hG190102.shtml\",\"videoEditMode\":\"0\",\"videoTitle\":\"《生活圈》 20190102\",\"videoFirstclass\":\"新闻\",\"videoPlaystyle\":\"\",\"videoFocusDate\":\"1546397015000\",\"videoKeyFrameUrl\":\"http://p4.img.cctvpic.com/fmspic/2019/01/02/6aa3ff694f3149ea96c940559396a911-1270.jpg\",\"videoMediaType\":\"\",\"videoPublishFlg\":\"1\",\"videoTag\":\"生活圈，闻阳，EB病毒，补硒骗局，明胶，植脂末\",\"videoSharedCode\":\"6aa3ff694f3149ea96c940559396a911\",\"videoChannel\":\"\",\"videoId\":\"VIDEyG4W0kxrjaIiqfCtz8hG190102\",\"videoLength\":\"00:41:47\",\"videoLastmodifyDate\":\"1546419337000\",\"videoDeleteFlg\":\"0\",\"videoProductiontime\":\"1546395936000\",\"videoKeyFrameUrl2\":\"\",\"videoKeyFrameUrl3\":\"\"}],\"numFound\":22},\"responseHeader\":{\"status\":0,\"QTime\":8,\"params\":{\"fl\":\"videoId,videoUrl,videoTitle,videoLength,videoMediaType,videoFocusDate,videoChannel,videoPlaystyle,videoLastmodifyDate,videoProductiontime,videoDeleteFlg,videoPublishFlg,videoKeyFrameUrl,videoKeyFrameUrl2,videoKeyFrameUrl3,videoBrief,videoSharedCode,videoFirstclass,videoSecondclass,videoThirdclass,videoEditMode,videoTag\",\"sort\":\"videoFocusDate desc\",\"start\":\"0\",\"q\":\" videoPublishFlg:1 AND videoDeleteFlg:0 AND videoPrimaryPageId:PAGEOiWVnMoLvThgbyok1ALc160121 AND videoEditMode:0\",\"fq\":\" videoFocusDate:[1546272000000 TO 1548950399000]\",\"rows\":\"90\"}}}'"
      ]
     },
     "execution_count": 10,
     "metadata": {},
     "output_type": "execute_result"
    }
   ],
   "source": [
    "json_str"
   ]
  },
  {
   "cell_type": "code",
   "execution_count": 11,
   "metadata": {},
   "outputs": [],
   "source": [
    "df = pd.DataFrame.from_records(json_data)"
   ]
  },
  {
   "cell_type": "code",
   "execution_count": 12,
   "metadata": {},
   "outputs": [
    {
     "data": {
      "text/plain": [
       "Index(['videoBrief', 'videoChannel', 'videoDeleteFlg', 'videoEditMode',\n",
       "       'videoFirstclass', 'videoFocusDate', 'videoId', 'videoKeyFrameUrl',\n",
       "       'videoKeyFrameUrl2', 'videoKeyFrameUrl3', 'videoLastmodifyDate',\n",
       "       'videoLength', 'videoMediaType', 'videoPlaystyle',\n",
       "       'videoProductiontime', 'videoPublishFlg', 'videoSecondclass',\n",
       "       'videoSharedCode', 'videoTag', 'videoThirdclass', 'videoTitle',\n",
       "       'videoUrl'],\n",
       "      dtype='object')"
      ]
     },
     "execution_count": 12,
     "metadata": {},
     "output_type": "execute_result"
    }
   ],
   "source": [
    "df.columns"
   ]
  },
  {
   "cell_type": "markdown",
   "metadata": {},
   "source": [
    "### 从标题中抽取，移除所有非数字 ###"
   ]
  },
  {
   "cell_type": "code",
   "execution_count": 13,
   "metadata": {},
   "outputs": [],
   "source": [
    "df['videoRecordDay'] = df['videoTitle'].map(lambda x: re.sub(\"[^0-9]\", \"\", x)).apply(pd.to_datetime)"
   ]
  },
  {
   "cell_type": "code",
   "execution_count": 14,
   "metadata": {},
   "outputs": [],
   "source": [
    "df.set_index('videoRecordDay', inplace=True)"
   ]
  },
  {
   "cell_type": "code",
   "execution_count": 15,
   "metadata": {},
   "outputs": [],
   "source": [
    "df.sort_index(inplace=True)"
   ]
  },
  {
   "cell_type": "code",
   "execution_count": 16,
   "metadata": {},
   "outputs": [
    {
     "data": {
      "text/plain": [
       "videoRecordDay\n",
       "2019-01-02    http://tv.cctv.com/2019/01/02/VIDEyG4W0kxrjaIi...\n",
       "2019-01-03    http://tv.cctv.com/2019/01/03/VIDEKLFHbC8K2AO7...\n",
       "2019-01-04    http://tv.cctv.com/2019/01/04/VIDEhqTlEg7Vs3rN...\n",
       "2019-01-07    http://tv.cctv.com/2019/01/07/VIDEZlbvgMhAbBQf...\n",
       "2019-01-08    http://tv.cctv.com/2019/01/08/VIDED9IYp2KYNiEo...\n",
       "2019-01-09    http://tv.cctv.com/2019/01/09/VIDEWMdm3FR4hR7R...\n",
       "2019-01-10    http://tv.cctv.com/2019/01/10/VIDEHgT9HN8RoZ40...\n",
       "2019-01-11    http://tv.cctv.com/2019/01/11/VIDEEr4DgPMbKw8g...\n",
       "2019-01-14    http://tv.cctv.com/2019/01/14/VIDEBNA3fbxJdfFS...\n",
       "2019-01-15    http://tv.cctv.com/2019/01/15/VIDE7RLzIYnkGQR6...\n",
       "2019-01-16    http://tv.cctv.com/2019/01/16/VIDETkyAL5o8eDCt...\n",
       "2019-01-17    http://tv.cctv.com/2019/01/17/VIDEjeV5I2bBRvDT...\n",
       "2019-01-18    http://tv.cctv.com/2019/01/18/VIDE3bHU3TvFnwNE...\n",
       "2019-01-21    http://tv.cctv.com/2019/01/21/VIDEm196PO0iAXQ4...\n",
       "2019-01-22    http://tv.cctv.com/2019/01/22/VIDE583tr4DTBOdM...\n",
       "2019-01-23    http://tv.cctv.com/2019/01/23/VIDEkafD6rnmAZNZ...\n",
       "2019-01-24    http://tv.cctv.com/2019/01/24/VIDELIGodSPXzvD2...\n",
       "2019-01-25    http://tv.cctv.com/2019/01/25/VIDEk5qdAleNNv0D...\n",
       "2019-01-28    http://tv.cctv.com/2019/01/28/VIDEsOoSUpzXR4R2...\n",
       "2019-01-29    http://tv.cctv.com/2019/01/29/VIDEtXUExVc97DvM...\n",
       "2019-01-30    http://tv.cctv.com/2019/01/30/VIDElGMSIlEFBeui...\n",
       "2019-01-31    http://tv.cctv.com/2019/01/31/VIDE80RtHHkDFFLZ...\n",
       "Name: videoUrl, dtype: object"
      ]
     },
     "execution_count": 16,
     "metadata": {},
     "output_type": "execute_result"
    }
   ],
   "source": [
    "df.loc[start_date:end_date, 'videoUrl']"
   ]
  },
  {
   "cell_type": "code",
   "execution_count": 17,
   "metadata": {},
   "outputs": [
    {
     "data": {
      "application/papermill.record+json": {
       "dn_list": [
        "http://tv.cctv.com/2019/01/02/VIDEyG4W0kxrjaIiqfCtz8hG190102.shtml",
        "http://tv.cctv.com/2019/01/03/VIDEKLFHbC8K2AO7yj1dpNag190103.shtml",
        "http://tv.cctv.com/2019/01/04/VIDEhqTlEg7Vs3rN12NRly8Y190104.shtml",
        "http://tv.cctv.com/2019/01/07/VIDEZlbvgMhAbBQfoY3gELfy190107.shtml",
        "http://tv.cctv.com/2019/01/08/VIDED9IYp2KYNiEoyfYptVY5190108.shtml",
        "http://tv.cctv.com/2019/01/09/VIDEWMdm3FR4hR7RwKJa2s4L190109.shtml",
        "http://tv.cctv.com/2019/01/10/VIDEHgT9HN8RoZ403gcJhNaq190110.shtml",
        "http://tv.cctv.com/2019/01/11/VIDEEr4DgPMbKw8gszRTRfaa190111.shtml",
        "http://tv.cctv.com/2019/01/14/VIDEBNA3fbxJdfFShSsz1ceI190114.shtml",
        "http://tv.cctv.com/2019/01/15/VIDE7RLzIYnkGQR6UJrsFk5g190115.shtml",
        "http://tv.cctv.com/2019/01/16/VIDETkyAL5o8eDCt4ZZF4BDm190116.shtml",
        "http://tv.cctv.com/2019/01/17/VIDEjeV5I2bBRvDTHa8RIr6n190117.shtml",
        "http://tv.cctv.com/2019/01/18/VIDE3bHU3TvFnwNEfp8odZdO190118.shtml",
        "http://tv.cctv.com/2019/01/21/VIDEm196PO0iAXQ4RO9JToAM190121.shtml",
        "http://tv.cctv.com/2019/01/22/VIDE583tr4DTBOdMPS1Eo68h190122.shtml",
        "http://tv.cctv.com/2019/01/23/VIDEkafD6rnmAZNZjNfTyocg190123.shtml",
        "http://tv.cctv.com/2019/01/24/VIDELIGodSPXzvD2zhAU7fVP190124.shtml",
        "http://tv.cctv.com/2019/01/25/VIDEk5qdAleNNv0DauLupcif190125.shtml",
        "http://tv.cctv.com/2019/01/28/VIDEsOoSUpzXR4R28otvPBTg190128.shtml",
        "http://tv.cctv.com/2019/01/29/VIDEtXUExVc97DvMWvJaZ7Fa190129.shtml",
        "http://tv.cctv.com/2019/01/30/VIDElGMSIlEFBeuiagWjWnXU190130.shtml",
        "http://tv.cctv.com/2019/01/31/VIDE80RtHHkDFFLZI2MznLqC190131.shtml"
       ]
      }
     },
     "metadata": {},
     "output_type": "display_data"
    }
   ],
   "source": [
    "pm.record(\"dn_list\", df.loc[start_date:end_date, 'videoUrl'].tolist())"
   ]
  }
 ],
 "metadata": {
  "kernelspec": {
   "display_name": "Python 3",
   "language": "python",
   "name": "python3"
  },
  "language_info": {
   "codemirror_mode": {
    "name": "ipython",
    "version": 3
   },
   "file_extension": ".py",
   "mimetype": "text/x-python",
   "name": "python",
   "nbconvert_exporter": "python",
   "pygments_lexer": "ipython3",
   "version": "3.6.5"
  }
 },
 "nbformat": 4,
 "nbformat_minor": 2
}
